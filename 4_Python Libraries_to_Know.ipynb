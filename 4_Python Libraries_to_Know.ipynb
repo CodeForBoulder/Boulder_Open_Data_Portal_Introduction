{
 "cells": [
  {
   "cell_type": "markdown",
   "metadata": {},
   "source": [
    "# Important Python Libraries To Know"
   ]
  },
  {
   "cell_type": "markdown",
   "metadata": {},
   "source": [
    "Below is a list of basic Python libraries to start with and an introduction on what they can do. We added links to tutorials and other information, as there is a ton already written. It's also helpful to see different types of explanations. Beyond these first few libraries, there are many, many more libraries out there. Go explore! \n",
    "\n",
    "1. Numpy\n",
    "2. Pandas\n",
    "3. Matplotlib\n",
    "4. Seaborn\n",
    "5. SciKit-Learn\n",
    "6. SciPy"
   ]
  },
  {
   "cell_type": "markdown",
   "metadata": {},
   "source": [
    "## Numpy\n",
    "\n",
    "Numpy gives you multidimensional array objects. Many other libraries are based off of Numpy, so you will also need Numpy to help run other packages. When you are just starting with Python and some basic analysis, you may use Numpy when doing means, medians and standard deviations. \n",
    "\n",
    "To import Numpy, type 'import numpy as np'. The 'as np' part shortens the name so when you reference Numpy later in your code, you only have to refer to np.\n",
    "\n",
    "Numpy Info: https://docs.scipy.org/doc/numpy/user/index.html\n",
    "\n",
    "Numpy Tutorial: https://www.youtube.com/watch?v=8JfDAm9y_7s"
   ]
  },
  {
   "cell_type": "markdown",
   "metadata": {},
   "source": [
    "## Pandas\n",
    "\n",
    "Pandas is indispensible for data wrangling! It will help you download/open a file in a data frame - a structure with rows and columns that looks very much like an excel spreadsheet. Dataframes make exploratory analysis easier by allowing you to look at counts of data features (including counts of null data); you can look at the first (or last) few rows of data to become more familiar with the data. You can also filter, sort and compare rows and columns fairly easily using Pandas.\n",
    "\n",
    "To import Pandas, type 'import pandas as pd'. The 'as pd' part shortens the name to save you typing later when you are referencing Pandas in your code.\n",
    "\n",
    "Pandas Info: http://pandas.pydata.org\n",
    "\n",
    "Pandas Tutorial: https://towardsdatascience.com/a-quick-introduction-to-the-pandas-python-library-f1b678f34673"
   ]
  },
  {
   "cell_type": "markdown",
   "metadata": {},
   "source": [
    "## MatPlotLib\n",
    "\n",
    "Now for the pretty stuff... Matplotlib is a plotting library for 2D visualizations. Visualizations are used to explore and find patterns in the data during exploratory analysis, and then communicate a story from the data.\n",
    "\n",
    "Pyplot is a module within matplotlib that controls features on your plots. \"matplotlib.pyplot is a collection of command style functions that make matplotlib work like MATLAB. Each pyplot function makes some change to a figure: e.g., creates a figure, creates a plotting area in a figure, plots some lines in a plotting area, decorates the plot with labels, etc.\" (https://matplotlib.org/users/pyplot_tutorial.html)\n",
    "\n",
    "Matplotlib Info: https://matplotlib.org\n",
    "\n",
    "Matplotlib Tutorial: https://www.datacamp.com/community/tutorials/matplotlib-tutorial-python"
   ]
  },
  {
   "cell_type": "markdown",
   "metadata": {},
   "source": [
    "## Seaborn\n",
    "\n",
    "Seaborn is another data visualization library based on matplolib. Matplotlib can be a bit limiting, so Seaborn was created to help bridge some of the gaps. Here is a great article if you are interested: https://jakevdp.github.io/PythonDataScienceHandbook/04.14-visualization-with-seaborn.html\n",
    "\n",
    "Seaborn Info: https://seaborn.pydata.org\n",
    "\n",
    "Seaborn Tutorial: https://elitedatascience.com/python-seaborn-tutorial"
   ]
  },
  {
   "cell_type": "markdown",
   "metadata": {},
   "source": [
    "## SciKit-Learn\n",
    "\n",
    "Scikit-Learn is a machine learning library. \"[Scikit-Learn] features various classification, regression and clustering algorithms including support vector machines, random forests, gradient boosting, k-means and DBSCAN, and is designed to interoperate with the Python numerical and scientific libraries NumPy and SciPy.\" (https://en.wikipedia.org/wiki/Scikit-learn)\n",
    "\n",
    "Machine learning is used to predict properties of unknown data and may not be needed if you are only looking to analyze the data in front of you. This is not to minimize analysis at all, an amazing about of information can be gleaned from exploring, analyzing, and plotting your data, the distinction is made to emphasize the difference between data analysis and machine learning.\n",
    "\n",
    "SciKit-Learn Info: https://scikit-learn.org/stable/\n",
    "\n",
    "SciKit-Learn Tutorial: https://elitedatascience.com/python-machine-learning-tutorial-scikit-learn"
   ]
  },
  {
   "cell_type": "markdown",
   "metadata": {},
   "source": [
    "## SciPy\n",
    "\n",
    "SciPy is a library for mathematical, and scientific computing. It builds off of Numpy and expands your toolset.\n",
    "\n",
    "SciPy Info: https://www.scipy.org\n",
    "\n",
    "SciPy Tutorial: https://www.tutorialspoint.com/scipy/scipy_quick_guide.htm (navigation menu on the left)"
   ]
  },
  {
   "cell_type": "markdown",
   "metadata": {},
   "source": [
    "### Other Libraries\n",
    "\n",
    "There are TONS of Python libraries out there. A quick Google search on 'what are the most important Python libraries to know' brings you many Top 5, Top 10, Top 20 lists. There are a lot of very cool packages, and it can get overwhelming quickly. I've always had the most luck with the project-focused approach. Dive into your problem and don't worry too much about **learning** libraries first. Basics are nice of course, but as problems/needs arise through your project, you'll figure out the solutions and learn about the libraries along the way. Good luck and HAVE FUN!"
   ]
  },
  {
   "cell_type": "markdown",
   "metadata": {
    "collapsed": true
   },
   "source": [
    "Python Package Index: https://pypi.org"
   ]
  }
 ],
 "metadata": {
  "kernelspec": {
   "display_name": "Python 3",
   "language": "python",
   "name": "python3"
  },
  "language_info": {
   "codemirror_mode": {
    "name": "ipython",
    "version": 3
   },
   "file_extension": ".py",
   "mimetype": "text/x-python",
   "name": "python",
   "nbconvert_exporter": "python",
   "pygments_lexer": "ipython3",
   "version": "3.6.2"
  }
 },
 "nbformat": 4,
 "nbformat_minor": 2
}
