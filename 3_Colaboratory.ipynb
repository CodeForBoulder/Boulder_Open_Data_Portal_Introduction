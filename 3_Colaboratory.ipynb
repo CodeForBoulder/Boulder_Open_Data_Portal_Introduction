{
 "cells": [
  {
   "cell_type": "markdown",
   "metadata": {},
   "source": [
    "## Colaboratory \n",
    "#### (You will have to sign into Google to use this service)\n",
    "\n",
    "1. Open your favorite browser and navigate to https://colab.research.google.com/\n",
    "2. Watch the short video on Colaboratory's welcome page, or watch here: https://youtu.be/inN8seMm7UI.\n",
    "3. When you are ready to go, select 'File' in the top left of the Colaboratory page and choose 'New Python 3 Notebook'."
   ]
  },
  {
   "cell_type": "code",
   "execution_count": null,
   "metadata": {
    "collapsed": true
   },
   "outputs": [],
   "source": []
  }
 ],
 "metadata": {
  "kernelspec": {
   "display_name": "Python 2",
   "language": "python",
   "name": "python2"
  },
  "language_info": {
   "codemirror_mode": {
    "name": "ipython",
    "version": 2
   },
   "file_extension": ".py",
   "mimetype": "text/x-python",
   "name": "python",
   "nbconvert_exporter": "python",
   "pygments_lexer": "ipython2",
   "version": "2.7.13"
  }
 },
 "nbformat": 4,
 "nbformat_minor": 2
}
