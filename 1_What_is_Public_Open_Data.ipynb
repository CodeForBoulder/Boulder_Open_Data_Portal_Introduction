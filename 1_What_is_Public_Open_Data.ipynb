{
 "cells": [
  {
   "cell_type": "markdown",
   "metadata": {},
   "source": [
    "# Open Data"
   ]
  },
  {
   "cell_type": "markdown",
   "metadata": {},
   "source": [
    "## What is Open Data?\n",
    "\n",
    "Public Open Data is any data the City (in this case, the City of Boulder) provides to the public in an accessible way. \"Open data is the idea that some data should be freely available to everyone to use and republish as they wish, without restrictions from copyright, patents or other mechanisms of control.\" (https://en.wikipedia.org/wiki/Open_data)\n"
   ]
  },
  {
   "cell_type": "markdown",
   "metadata": {},
   "source": [
    "## Why Do We Care About Open Data?\n",
    "\n",
    "We can learn more about our city! The Federal Open Data website, Data.gov states, \"Opening government data increases citizen participation in government, creates opportunities for economic development, and informs decision making in both the private and public sectors.\" (https://www.data.gov/open-gov/)"
   ]
  },
  {
   "cell_type": "markdown",
   "metadata": {
    "collapsed": true
   },
   "source": [
    "## TODO\n",
    "\n",
    "Add a nice test example here, without explaining anything to the user, just to give them a sense of what can be done with open data."
   ]
  },
  {
   "cell_type": "markdown",
   "metadata": {},
   "source": [
    "## TODO\n",
    "\n",
    "Add a link to Boulder's Open Data resources and available datasets"
   ]
  }
 ],
 "metadata": {
  "kernelspec": {
   "display_name": "Python 3",
   "language": "python",
   "name": "python3"
  },
  "language_info": {
   "codemirror_mode": {
    "name": "ipython",
    "version": 2
   },
   "file_extension": ".py",
   "mimetype": "text/x-python",
   "name": "python",
   "nbconvert_exporter": "python",
   "pygments_lexer": "ipython2",
   "version": "2.7.13"
  }
 },
 "nbformat": 4,
 "nbformat_minor": 2
}
