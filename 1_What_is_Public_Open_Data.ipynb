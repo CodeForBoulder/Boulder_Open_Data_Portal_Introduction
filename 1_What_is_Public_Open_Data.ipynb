{
 "cells": [
  {
   "cell_type": "markdown",
   "metadata": {},
   "source": [
    "## What is Public Open Data?\n",
    "\n",
    "Public Open Data is any data the City (in this case) provides to the public in an accessible way. \"Open data is the idea that some data should be freely available to everyone to use and republish as they wish, without restrictions from copyright, patents or other mechanisms of control.\" (https://en.wikipedia.org/wiki/Open_data)\n"
   ]
  },
  {
   "cell_type": "markdown",
   "metadata": {},
   "source": [
    "## Why Do We Care About Public Open Data?\n",
    "\n",
    "We can learn more about our city! The Federal Open Data website, Data.gov states, \"Opening government data increases citizen participation in government, creates opportunities for economic development, and informs decision making in both the private and public sectors.\" (https://www.data.gov/open-gov/)"
   ]
  },
  {
   "cell_type": "code",
   "execution_count": null,
   "metadata": {
    "collapsed": true
   },
   "outputs": [],
   "source": []
  }
 ],
 "metadata": {
  "kernelspec": {
   "display_name": "Python 2",
   "language": "python",
   "name": "python2"
  },
  "language_info": {
   "codemirror_mode": {
    "name": "ipython",
    "version": 2
   },
   "file_extension": ".py",
   "mimetype": "text/x-python",
   "name": "python",
   "nbconvert_exporter": "python",
   "pygments_lexer": "ipython2",
   "version": "2.7.13"
  }
 },
 "nbformat": 4,
 "nbformat_minor": 2
}
