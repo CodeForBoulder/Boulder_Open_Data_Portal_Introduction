{
 "cells": [
  {
   "cell_type": "markdown",
   "metadata": {},
   "source": [
    "Data source notes: The data for this notebook was downloaded from: http://data-boulder.opendata.arcgis.com/datasets/fa19e19360e74c15a5ebe8b65cf523ad_0/data on 4/21/2019. I Downloaded the csv format to my computer. Save the data file in the same location that you open your notebook. The following is information included on the download site...\n",
    "\n",
    "*This feature class is made up of the crimes the crime analyst determines to be “target crimes”. These crimes have been moved from their exact location to either a block address, an intersection or City of Boulder Police Head Quarters (if the exact location of where the crime occurred).*"
   ]
  },
  {
   "cell_type": "code",
   "execution_count": 31,
   "metadata": {
    "collapsed": true
   },
   "outputs": [],
   "source": [
    "import pandas as pd\n",
    "import matplotlib.pyplot as plt"
   ]
  },
  {
   "cell_type": "code",
   "execution_count": 32,
   "metadata": {},
   "outputs": [
    {
     "data": {
      "text/html": [
       "<div>\n",
       "<style>\n",
       "    .dataframe thead tr:only-child th {\n",
       "        text-align: right;\n",
       "    }\n",
       "\n",
       "    .dataframe thead th {\n",
       "        text-align: left;\n",
       "    }\n",
       "\n",
       "    .dataframe tbody tr th {\n",
       "        vertical-align: top;\n",
       "    }\n",
       "</style>\n",
       "<table border=\"1\" class=\"dataframe\">\n",
       "  <thead>\n",
       "    <tr style=\"text-align: right;\">\n",
       "      <th></th>\n",
       "      <th>X</th>\n",
       "      <th>Y</th>\n",
       "      <th>OBJECTID</th>\n",
       "      <th>REPORTNUM</th>\n",
       "      <th>REPORTDATE</th>\n",
       "      <th>BLOCKADD</th>\n",
       "      <th>OFFENSE</th>\n",
       "    </tr>\n",
       "  </thead>\n",
       "  <tbody>\n",
       "    <tr>\n",
       "      <th>0</th>\n",
       "      <td>-105.272694</td>\n",
       "      <td>40.036411</td>\n",
       "      <td>15317027</td>\n",
       "      <td>100005879</td>\n",
       "      <td>2010-05-10T07:00:00.000Z</td>\n",
       "      <td>19th St &amp; Iris Ave</td>\n",
       "      <td>Vandalism</td>\n",
       "    </tr>\n",
       "    <tr>\n",
       "      <th>1</th>\n",
       "      <td>-105.255116</td>\n",
       "      <td>40.032824</td>\n",
       "      <td>15317028</td>\n",
       "      <td>080016839</td>\n",
       "      <td>2008-12-15T07:00:00.000Z</td>\n",
       "      <td>2900 Block Glenwood Dr</td>\n",
       "      <td>Burglary</td>\n",
       "    </tr>\n",
       "    <tr>\n",
       "      <th>2</th>\n",
       "      <td>-105.256249</td>\n",
       "      <td>40.019711</td>\n",
       "      <td>15317029</td>\n",
       "      <td>170003203</td>\n",
       "      <td>2017-03-16T07:00:00.000Z</td>\n",
       "      <td>1900 Block 29th St</td>\n",
       "      <td>Sex Assault</td>\n",
       "    </tr>\n",
       "    <tr>\n",
       "      <th>3</th>\n",
       "      <td>-105.278651</td>\n",
       "      <td>40.002780</td>\n",
       "      <td>15317030</td>\n",
       "      <td>120006765</td>\n",
       "      <td>2012-05-19T07:00:00.000Z</td>\n",
       "      <td>800 Block 11th St</td>\n",
       "      <td>Robbery</td>\n",
       "    </tr>\n",
       "    <tr>\n",
       "      <th>4</th>\n",
       "      <td>-105.253104</td>\n",
       "      <td>40.004454</td>\n",
       "      <td>15317031</td>\n",
       "      <td>080007937</td>\n",
       "      <td>2008-06-14T07:00:00.000Z</td>\n",
       "      <td>900 Block 30th St</td>\n",
       "      <td>Vandalism</td>\n",
       "    </tr>\n",
       "  </tbody>\n",
       "</table>\n",
       "</div>"
      ],
      "text/plain": [
       "            X          Y  OBJECTID  REPORTNUM                REPORTDATE  \\\n",
       "0 -105.272694  40.036411  15317027  100005879  2010-05-10T07:00:00.000Z   \n",
       "1 -105.255116  40.032824  15317028  080016839  2008-12-15T07:00:00.000Z   \n",
       "2 -105.256249  40.019711  15317029  170003203  2017-03-16T07:00:00.000Z   \n",
       "3 -105.278651  40.002780  15317030  120006765  2012-05-19T07:00:00.000Z   \n",
       "4 -105.253104  40.004454  15317031  080007937  2008-06-14T07:00:00.000Z   \n",
       "\n",
       "                 BLOCKADD      OFFENSE  \n",
       "0      19th St & Iris Ave    Vandalism  \n",
       "1  2900 Block Glenwood Dr     Burglary  \n",
       "2      1900 Block 29th St  Sex Assault  \n",
       "3       800 Block 11th St      Robbery  \n",
       "4       900 Block 30th St    Vandalism  "
      ]
     },
     "execution_count": 32,
     "metadata": {},
     "output_type": "execute_result"
    }
   ],
   "source": [
    "# Read in the text document and view the first five rows\n",
    "crime = pd.read_table('CrimeLocations.csv',sep=',')\n",
    "crime.head()"
   ]
  },
  {
   "cell_type": "code",
   "execution_count": 33,
   "metadata": {},
   "outputs": [
    {
     "data": {
      "text/plain": [
       "(33184, 7)"
      ]
     },
     "execution_count": 33,
     "metadata": {},
     "output_type": "execute_result"
    }
   ],
   "source": [
    "#Count the number of rows and columns.\n",
    "crime.shape"
   ]
  },
  {
   "cell_type": "code",
   "execution_count": 34,
   "metadata": {},
   "outputs": [
    {
     "data": {
      "text/plain": [
       "['X', 'Y', 'OBJECTID', 'REPORTNUM', 'REPORTDATE', 'BLOCKADD', 'OFFENSE']"
      ]
     },
     "execution_count": 34,
     "metadata": {},
     "output_type": "execute_result"
    }
   ],
   "source": [
    "# List out the column headers\n",
    "list(crime)"
   ]
  },
  {
   "cell_type": "code",
   "execution_count": 35,
   "metadata": {},
   "outputs": [
    {
     "data": {
      "text/plain": [
       "X             0\n",
       "Y             0\n",
       "OBJECTID      0\n",
       "REPORTNUM     0\n",
       "REPORTDATE    0\n",
       "BLOCKADD      0\n",
       "OFFENSE       0\n",
       "dtype: int64"
      ]
     },
     "execution_count": 35,
     "metadata": {},
     "output_type": "execute_result"
    }
   ],
   "source": [
    "# Count the number of null values in each column.\n",
    "#This can help give you an idea if there are 'holes' in your data.\n",
    "crime.isnull().sum()"
   ]
  },
  {
   "cell_type": "code",
   "execution_count": 36,
   "metadata": {},
   "outputs": [
    {
     "data": {
      "text/plain": [
       "X             float64\n",
       "Y             float64\n",
       "OBJECTID        int64\n",
       "REPORTNUM      object\n",
       "REPORTDATE     object\n",
       "BLOCKADD       object\n",
       "OFFENSE        object\n",
       "dtype: object"
      ]
     },
     "execution_count": 36,
     "metadata": {},
     "output_type": "execute_result"
    }
   ],
   "source": [
    "# Data type for each column.\n",
    "#You may have to convert your data types before you can add/subtract, do date ranges, etc.\n",
    "crime.dtypes"
   ]
  },
  {
   "cell_type": "code",
   "execution_count": 37,
   "metadata": {
    "collapsed": true
   },
   "outputs": [],
   "source": [
    "# Change the datatype to datetime for REPORTDATE.\n",
    "#You are then able to look at specific ranges, or count by date.\n",
    "crime['REPORTDATE'] = crime['REPORTDATE'].astype('datetime64[ns]')"
   ]
  },
  {
   "cell_type": "code",
   "execution_count": 38,
   "metadata": {},
   "outputs": [
    {
     "data": {
      "text/plain": [
       "X              3851\n",
       "Y              3851\n",
       "OBJECTID      33184\n",
       "REPORTNUM     33184\n",
       "REPORTDATE     4120\n",
       "BLOCKADD       3761\n",
       "OFFENSE          15\n",
       "dtype: int64"
      ]
     },
     "execution_count": 38,
     "metadata": {},
     "output_type": "execute_result"
    }
   ],
   "source": [
    "# Count the number of unique values in each column\n",
    "crime.apply(lambda x: len(x.unique()))"
   ]
  },
  {
   "cell_type": "code",
   "execution_count": 39,
   "metadata": {},
   "outputs": [
    {
     "data": {
      "text/plain": [
       "array(['Vandalism', 'Burglary', 'Sex Assault', 'Robbery', 'Incident',\n",
       "       'Trespassing', 'Theft From Vehicle', 'Assault', 'Auto Theft',\n",
       "       'Indecent Exposure', 'Theft Of Car Parts', 'Motorcycle Theft',\n",
       "       'Recovery', 'Indecency', 'Homicide'], dtype=object)"
      ]
     },
     "execution_count": 39,
     "metadata": {},
     "output_type": "execute_result"
    }
   ],
   "source": [
    "# There are only 15 unique Offense types! What are they?\n",
    "crime['OFFENSE'].unique()"
   ]
  },
  {
   "cell_type": "markdown",
   "metadata": {},
   "source": [
    "This is where I'd go back to the website to understand more about the data. What information do they give us? I don't see drug offenses included.\n",
    "\n",
    "In checking the data source website, I do not see information as to why drug offenses are not included, but an interesting follow-up question."
   ]
  },
  {
   "cell_type": "code",
   "execution_count": 40,
   "metadata": {},
   "outputs": [
    {
     "name": "stdout",
     "output_type": "stream",
     "text": [
      "2008-01-01 07:00:00\n",
      "2019-04-19 07:00:00\n"
     ]
    }
   ],
   "source": [
    "# What date range is included in the data?\n",
    "print(crime['REPORTDATE'].min())\n",
    "print(crime['REPORTDATE'].max())"
   ]
  },
  {
   "cell_type": "code",
   "execution_count": 41,
   "metadata": {
    "scrolled": true
   },
   "outputs": [
    {
     "data": {
      "image/png": "[encoded data removed]",
      "text/plain": [
       "<matplotlib.figure.Figure at 0x11af37fd0>"
      ]
     },
     "metadata": {},
     "output_type": "display_data"
    }
   ],
   "source": [
    "# Is there a pattern for when crimes are reported throughout a month? Group by Date.\n",
    "#The 31st is most likely a lower number because there are fewer.\n",
    "crime['REPORTDATE'].groupby(crime['REPORTDATE'].dt.day).count().plot(kind=\"bar\")\n",
    "plt.show()"
   ]
  },
  {
   "cell_type": "code",
   "execution_count": 42,
   "metadata": {},
   "outputs": [
    {
     "data": {
      "image/png": "[encoded data removed]",
      "text/plain": [
       "<matplotlib.figure.Figure at 0x111c6b748>"
      ]
     },
     "metadata": {},
     "output_type": "display_data"
    }
   ],
   "source": [
    "# Are there certain months that see higher crime? Group by Month.\n",
    "crime['REPORTDATE'].groupby(crime['REPORTDATE'].dt.month).count().plot(kind=\"bar\")\n",
    "plt.show()"
   ]
  },
  {
   "cell_type": "code",
   "execution_count": 43,
   "metadata": {},
   "outputs": [
    {
     "data": {
      "image/png": "[encoded data removed]",
      "text/plain": [
       "<matplotlib.figure.Figure at 0x11190b3c8>"
      ]
     },
     "metadata": {},
     "output_type": "display_data"
    }
   ],
   "source": [
    "# How many crimes were reported each year?\n",
    "crime['REPORTDATE'].groupby(crime['REPORTDATE'].dt.year).count().plot(kind=\"bar\")\n",
    "plt.show()"
   ]
  },
  {
   "cell_type": "code",
   "execution_count": 44,
   "metadata": {},
   "outputs": [
    {
     "name": "stdout",
     "output_type": "stream",
     "text": [
      "Current size: [16.0, 12.0]\n"
     ]
    },
    {
     "data": {
      "image/png": "[encoded data removed]",
      "text/plain": [
       "<matplotlib.figure.Figure at 0x111be3080>"
      ]
     },
     "metadata": {},
     "output_type": "display_data"
    }
   ],
   "source": [
    "# Show the number of crimes committed each month of each year.\n",
    "cbar = crime['REPORTDATE'].groupby([crime['REPORTDATE'].dt.year, crime['REPORTDATE'].dt.month]).count().plot(kind=\"bar\")\n",
    "\n",
    "for label in cbar.xaxis.get_ticklabels()[::2]:\n",
    "    label.set_visible(False)\n",
    "\n",
    "# Get current size\n",
    "fig_size = plt.rcParams[\"figure.figsize\"]\n",
    " \n",
    "# Prints: [8.0, 6.0]\n",
    "print (\"Current size:\", fig_size)\n",
    "\n",
    "# Set figure width to 8 and height to 6\n",
    "fig_size[0] = 16\n",
    "fig_size[1] = 12\n",
    "plt.rcParams[\"figure.figsize\"] = fig_size\n",
    "\n",
    "plt.show()"
   ]
  },
  {
   "cell_type": "code",
   "execution_count": 45,
   "metadata": {},
   "outputs": [
    {
     "data": {
      "text/plain": [
       "REPORTDATE  REPORTDATE\n",
       "2008        1             239\n",
       "            2             228\n",
       "            3             272\n",
       "            4             285\n",
       "            5             291\n",
       "            6             275\n",
       "            7             298\n",
       "            8             273\n",
       "            9             338\n",
       "            10            276\n",
       "            11            252\n",
       "            12            236\n",
       "2009        1             223\n",
       "            2             219\n",
       "            3             262\n",
       "            4             233\n",
       "            5             305\n",
       "            6             247\n",
       "            7             238\n",
       "            8             309\n",
       "            9             271\n",
       "            10            268\n",
       "            11            259\n",
       "            12            185\n",
       "2010        1             229\n",
       "            2             190\n",
       "            3             232\n",
       "            4             289\n",
       "            5             250\n",
       "            6             287\n",
       "                         ... \n",
       "2016        11            212\n",
       "            12            210\n",
       "2017        1             240\n",
       "            2             196\n",
       "            3             230\n",
       "            4             240\n",
       "            5             251\n",
       "            6             231\n",
       "            7             320\n",
       "            8             300\n",
       "            9             274\n",
       "            10            307\n",
       "            11            281\n",
       "            12            223\n",
       "2018        1             270\n",
       "            2             242\n",
       "            3             283\n",
       "            4             283\n",
       "            5             281\n",
       "            6             293\n",
       "            7             344\n",
       "            8             343\n",
       "            9             339\n",
       "            10            330\n",
       "            11            235\n",
       "            12            247\n",
       "2019        1             251\n",
       "            2             242\n",
       "            3             257\n",
       "            4             148\n",
       "Name: REPORTDATE, Length: 136, dtype: int64"
      ]
     },
     "execution_count": 45,
     "metadata": {},
     "output_type": "execute_result"
    }
   ],
   "source": [
    "# The graph can show patterns, but can also be a lot to look at.\n",
    "#Show the counts of number of crimes per month, per year.\n",
    "counts = crime['REPORTDATE'].groupby([crime['REPORTDATE'].dt.year, crime['REPORTDATE'].dt.month]).count()\n",
    "counts"
   ]
  },
  {
   "cell_type": "code",
   "execution_count": 51,
   "metadata": {},
   "outputs": [
    {
     "data": {
      "text/plain": [
       "Vandalism             9117\n",
       "Burglary              6099\n",
       "Theft From Vehicle    5297\n",
       "Trespassing           5090\n",
       "Incident              2381\n",
       "Auto Theft            1376\n",
       "Assault               1247\n",
       "Sex Assault           1027\n",
       "Robbery                448\n",
       "Indecent Exposure      284\n",
       "Motorcycle Theft       279\n",
       "Recovery               252\n",
       "Theft Of Car Parts     225\n",
       "Indecency               42\n",
       "Homicide                20\n",
       "Name: OFFENSE, dtype: int64"
      ]
     },
     "execution_count": 51,
     "metadata": {},
     "output_type": "execute_result"
    }
   ],
   "source": [
    "# Look at numbers for types of crimes committed.\n",
    "offenses = crime.OFFENSE.value_counts()\n",
    "offenses"
   ]
  },
  {
   "cell_type": "code",
   "execution_count": 53,
   "metadata": {
    "scrolled": true
   },
   "outputs": [
    {
     "data": {
      "image/png": "[encoded data removed]",
      "text/plain": [
       "<matplotlib.figure.Figure at 0x1122f1eb8>"
      ]
     },
     "metadata": {},
     "output_type": "display_data"
    }
   ],
   "source": [
    "# Now to visualize the numbers\n",
    "crime.OFFENSE.value_counts().plot(kind = 'bar')\n",
    "plt.show()"
   ]
  },
  {
   "cell_type": "markdown",
   "metadata": {},
   "source": [
    "Now that we've done some \"exploratory\" analysis we have a better idea of what the can tell us and what it cannot. One piece that we haven't explored is location. Mapping in Python may take longer if you are very new programming. One great resource that has made the task easy is Tableau. I will create a separate tutorial in Tableau to help us create a map.\n",
    "\n",
    "What other questions do you have for the data?\n",
    "\n",
    "The following two notebooks in the repository will explore joining data to other files. Joining sources of data can help answer many more questions!"
   ]
  }
 ],
 "metadata": {
  "kernelspec": {
   "display_name": "Python 3",
   "language": "python",
   "name": "python3"
  },
  "language_info": {
   "codemirror_mode": {
    "name": "ipython",
    "version": 3
   },
   "file_extension": ".py",
   "mimetype": "text/x-python",
   "name": "python",
   "nbconvert_exporter": "python",
   "pygments_lexer": "ipython3",
   "version": "3.6.2"
  }
 },
 "nbformat": 4,
 "nbformat_minor": 2
}
